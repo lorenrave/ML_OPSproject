{
 "cells": [
  {
   "cell_type": "markdown",
   "metadata": {},
   "source": [
    "       Modelo de aprendizaje automático:"
   ]
  },
  {
   "cell_type": "markdown",
   "metadata": {},
   "source": [
    "Modelo de aprendizaje automático: Para este modelo el input será un juego y el output una lista de 5 juegos recomendados, \n",
    "\n",
    "para ello usaremos la similitud del coseno. \n",
    "\n",
    "Vamos a tomar en cuenta el título, el juego y el precio del mismo para realizar este modelo, ya que ayudan a generar recomendaciones relevantes \n",
    "\n",
    "y personalizadas para los  usuarios abordando aspectos clave de las preferencias del usuario."
   ]
  },
  {
   "cell_type": "code",
   "execution_count": 11,
   "metadata": {},
   "outputs": [],
   "source": [
    "import pandas as pd\n",
    "import warnings\n",
    "warnings.filterwarnings(\"ignore\")\n",
    "from sklearn.feature_extraction.text import CountVectorizer\n",
    "from sklearn.metrics.pairwise import cosine_similarity\n",
    "from fastapi import FastAPI"
   ]
  },
  {
   "cell_type": "code",
   "execution_count": 12,
   "metadata": {},
   "outputs": [
    {
     "data": {
      "text/plain": [
       "(27617, 6)"
      ]
     },
     "execution_count": 12,
     "metadata": {},
     "output_type": "execute_result"
    }
   ],
   "source": [
    "df_games = pd.read_csv('data/df_games_clean.csv', encoding='utf-8')\n",
    "df_games.shape"
   ]
  },
  {
   "cell_type": "code",
   "execution_count": 13,
   "metadata": {},
   "outputs": [],
   "source": [
    "# Tomar los primeros 1000 datos de steam_games\n",
    "muestra = df_games.head(1000)\n",
    "\n",
    "# Preprocesamiento de datos\n",
    "steam = muestra.dropna(subset=['title', 'genres'])\n",
    "steam['price'] = steam['price'].fillna(0)\n",
    "steam['genres'] = steam['genres'].fillna('[]').astype(str)\n",
    "\n",
    "# Combinamos las columnas 'genres' y 'title' en una sola columna 'features'\n",
    "steam['features'] = steam['genres'] + ' ' + steam['title']\n",
    "\n",
    "# Inicializamos el vectorizador de texto\n",
    "vectorizer = CountVectorizer()\n",
    "\n",
    "# Creamos una matriz de términos-documentos\n",
    "X = vectorizer.fit_transform(steam['features'])\n",
    "\n",
    "# Calculamos la similitud del coseno entre los juegos\n",
    "cosine_sim = cosine_similarity(X, X)\n",
    "\n",
    "def recomendacion_juego(game_id):\n",
    "    try:\n",
    "        # Obtener el título del juego a partir del ID\n",
    "        game_title = steam.loc[steam['id'] == game_id, 'title'].values[0]\n",
    "\n",
    "        # Obtener el índice del juego en el DataFrame\n",
    "        game_index = steam.index[steam['title'] == game_title].tolist()[0]\n",
    "\n",
    "        # Obtener las puntuaciones de similitud del juego en cuestión\n",
    "        sim_scores = list(enumerate(cosine_sim[game_index]))\n",
    "\n",
    "        # Ordenar los juegos por similitud en orden descendente\n",
    "        sim_scores = sorted(sim_scores, key=lambda x: x[1], reverse=True)\n",
    "\n",
    "        # Obtener los 5 juegos más similares (excluyendo el juego de entrada)\n",
    "        top_n = 5\n",
    "        recommended_games = []\n",
    "        for i, sim in sim_scores[1:top_n+1]:\n",
    "            recommended_games.append(steam['title'].iloc[i])\n",
    "\n",
    "        return {\"Juego\": game_title, \"juegos_recomendados\": recommended_games}\n",
    "    except Exception as e:\n",
    "        return {\"error\": str(e)}"
   ]
  },
  {
   "cell_type": "markdown",
   "metadata": {},
   "source": [
    "Resultados:"
   ]
  },
  {
   "cell_type": "code",
   "execution_count": 14,
   "metadata": {},
   "outputs": [
    {
     "name": "stdout",
     "output_type": "stream",
     "text": [
      "{'Juego': 'Real Pool 3D - Poolians', 'juegos_recomendados': ['SNOW - Starter Pack', 'SNOW - Lifetime Pack', 'SNOW - All Access Basic Pass', 'SNOW - All Access Pro Pass', 'SNOW - All Access Legend Pass']}\n"
     ]
    }
   ],
   "source": [
    "game_id = 670290\t # Pongo el ID del juego que deseo buscar recomendaciones\n",
    "recomendaciones = recomendacion_juego(game_id)\n",
    "print(recomendaciones)"
   ]
  }
 ],
 "metadata": {
  "kernelspec": {
   "display_name": "Python 3",
   "language": "python",
   "name": "python3"
  },
  "language_info": {
   "codemirror_mode": {
    "name": "ipython",
    "version": 3
   },
   "file_extension": ".py",
   "mimetype": "text/x-python",
   "name": "python",
   "nbconvert_exporter": "python",
   "pygments_lexer": "ipython3",
   "version": "3.11.3"
  },
  "orig_nbformat": 4
 },
 "nbformat": 4,
 "nbformat_minor": 2
}
